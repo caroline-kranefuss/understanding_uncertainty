{
 "cells": [
  {
   "cell_type": "markdown",
   "id": "87b91d83",
   "metadata": {},
   "source": [
    "# Assignment 2\n",
    "### Understanding Uncertainty\n",
    "### Due 9/12"
   ]
  },
  {
   "cell_type": "markdown",
   "id": "380e339f",
   "metadata": {},
   "source": [
    "1. 'State Bottle Retail' is the price at which the bottle is sold, while 'State Bottle Cost' is the price the state pays for a bottle.\n",
    "- How do you define the most profitable item? Why? Explain your thinking.\n",
    "- Use `.groupby` calculations to determine the most profitable liquors sold in Iowa.\n",
    "- Make a plot of the top liquors."
   ]
  },
  {
   "cell_type": "markdown",
   "id": "78ed6317",
   "metadata": {},
   "source": [
    "State bottle retail minus state bottle cost is a reductive but \"close-enough\" way to measure profit. (Technically, you also have to consider overhead of a physical store, shipping costs, and employee salaries.)\n",
    "\n",
    "So what is the most profitable item? I think considering the bottle volume has the potential to double-count, since a larger volume of an item will cost more than a smaller volume of that same item (and is thus already built into cost). So I am choosing not to use that in my calculations. I think the most profitable item is the one that has the highest (state bottle retail - state bottle cost) * bottles sold."
   ]
  },
  {
   "cell_type": "code",
   "execution_count": 6,
   "id": "2c194067",
   "metadata": {},
   "outputs": [
    {
     "name": "stdout",
     "output_type": "stream",
     "text": [
      "Item Description\n",
      "TITOS HANDMADE VODKA         364074.35\n",
      "BLACK VELVET                 274676.85\n",
      "FIREBALL CINNAMON WHISKEY    187535.22\n",
      "CROWN ROYAL                  160981.95\n",
      "CROWN ROYAL REGAL APPLE      122880.40\n",
      "Name: Profit, dtype: float64\n"
     ]
    },
    {
     "data": {
      "application/vnd.plotly.v1+json": {
       "config": {
        "plotlyServerURL": "https://plot.ly"
       },
       "data": [
        {
         "hovertemplate": "Item Description=%{x}<br>Profit=%{y}<extra></extra>",
         "legendgroup": "",
         "marker": {
          "color": "#636efa",
          "pattern": {
           "shape": ""
          }
         },
         "name": "",
         "orientation": "v",
         "showlegend": false,
         "textposition": "auto",
         "type": "bar",
         "x": [
          "TITOS HANDMADE VODKA",
          "BLACK VELVET",
          "FIREBALL CINNAMON WHISKEY",
          "CROWN ROYAL",
          "CROWN ROYAL REGAL APPLE"
         ],
         "xaxis": "x",
         "y": {
          "bdata": "Z2ZmZqk4FkFnZmZm08MQQSlcj8J55AZBmpmZma+mA0FnZmZmBgD+QA==",
          "dtype": "f8"
         },
         "yaxis": "y"
        }
       ],
       "layout": {
        "barmode": "relative",
        "legend": {
         "tracegroupgap": 0
        },
        "template": {
         "data": {
          "bar": [
           {
            "error_x": {
             "color": "#2a3f5f"
            },
            "error_y": {
             "color": "#2a3f5f"
            },
            "marker": {
             "line": {
              "color": "#E5ECF6",
              "width": 0.5
             },
             "pattern": {
              "fillmode": "overlay",
              "size": 10,
              "solidity": 0.2
             }
            },
            "type": "bar"
           }
          ],
          "barpolar": [
           {
            "marker": {
             "line": {
              "color": "#E5ECF6",
              "width": 0.5
             },
             "pattern": {
              "fillmode": "overlay",
              "size": 10,
              "solidity": 0.2
             }
            },
            "type": "barpolar"
           }
          ],
          "carpet": [
           {
            "aaxis": {
             "endlinecolor": "#2a3f5f",
             "gridcolor": "white",
             "linecolor": "white",
             "minorgridcolor": "white",
             "startlinecolor": "#2a3f5f"
            },
            "baxis": {
             "endlinecolor": "#2a3f5f",
             "gridcolor": "white",
             "linecolor": "white",
             "minorgridcolor": "white",
             "startlinecolor": "#2a3f5f"
            },
            "type": "carpet"
           }
          ],
          "choropleth": [
           {
            "colorbar": {
             "outlinewidth": 0,
             "ticks": ""
            },
            "type": "choropleth"
           }
          ],
          "contour": [
           {
            "colorbar": {
             "outlinewidth": 0,
             "ticks": ""
            },
            "colorscale": [
             [
              0,
              "#0d0887"
             ],
             [
              0.1111111111111111,
              "#46039f"
             ],
             [
              0.2222222222222222,
              "#7201a8"
             ],
             [
              0.3333333333333333,
              "#9c179e"
             ],
             [
              0.4444444444444444,
              "#bd3786"
             ],
             [
              0.5555555555555556,
              "#d8576b"
             ],
             [
              0.6666666666666666,
              "#ed7953"
             ],
             [
              0.7777777777777778,
              "#fb9f3a"
             ],
             [
              0.8888888888888888,
              "#fdca26"
             ],
             [
              1,
              "#f0f921"
             ]
            ],
            "type": "contour"
           }
          ],
          "contourcarpet": [
           {
            "colorbar": {
             "outlinewidth": 0,
             "ticks": ""
            },
            "type": "contourcarpet"
           }
          ],
          "heatmap": [
           {
            "colorbar": {
             "outlinewidth": 0,
             "ticks": ""
            },
            "colorscale": [
             [
              0,
              "#0d0887"
             ],
             [
              0.1111111111111111,
              "#46039f"
             ],
             [
              0.2222222222222222,
              "#7201a8"
             ],
             [
              0.3333333333333333,
              "#9c179e"
             ],
             [
              0.4444444444444444,
              "#bd3786"
             ],
             [
              0.5555555555555556,
              "#d8576b"
             ],
             [
              0.6666666666666666,
              "#ed7953"
             ],
             [
              0.7777777777777778,
              "#fb9f3a"
             ],
             [
              0.8888888888888888,
              "#fdca26"
             ],
             [
              1,
              "#f0f921"
             ]
            ],
            "type": "heatmap"
           }
          ],
          "histogram": [
           {
            "marker": {
             "pattern": {
              "fillmode": "overlay",
              "size": 10,
              "solidity": 0.2
             }
            },
            "type": "histogram"
           }
          ],
          "histogram2d": [
           {
            "colorbar": {
             "outlinewidth": 0,
             "ticks": ""
            },
            "colorscale": [
             [
              0,
              "#0d0887"
             ],
             [
              0.1111111111111111,
              "#46039f"
             ],
             [
              0.2222222222222222,
              "#7201a8"
             ],
             [
              0.3333333333333333,
              "#9c179e"
             ],
             [
              0.4444444444444444,
              "#bd3786"
             ],
             [
              0.5555555555555556,
              "#d8576b"
             ],
             [
              0.6666666666666666,
              "#ed7953"
             ],
             [
              0.7777777777777778,
              "#fb9f3a"
             ],
             [
              0.8888888888888888,
              "#fdca26"
             ],
             [
              1,
              "#f0f921"
             ]
            ],
            "type": "histogram2d"
           }
          ],
          "histogram2dcontour": [
           {
            "colorbar": {
             "outlinewidth": 0,
             "ticks": ""
            },
            "colorscale": [
             [
              0,
              "#0d0887"
             ],
             [
              0.1111111111111111,
              "#46039f"
             ],
             [
              0.2222222222222222,
              "#7201a8"
             ],
             [
              0.3333333333333333,
              "#9c179e"
             ],
             [
              0.4444444444444444,
              "#bd3786"
             ],
             [
              0.5555555555555556,
              "#d8576b"
             ],
             [
              0.6666666666666666,
              "#ed7953"
             ],
             [
              0.7777777777777778,
              "#fb9f3a"
             ],
             [
              0.8888888888888888,
              "#fdca26"
             ],
             [
              1,
              "#f0f921"
             ]
            ],
            "type": "histogram2dcontour"
           }
          ],
          "mesh3d": [
           {
            "colorbar": {
             "outlinewidth": 0,
             "ticks": ""
            },
            "type": "mesh3d"
           }
          ],
          "parcoords": [
           {
            "line": {
             "colorbar": {
              "outlinewidth": 0,
              "ticks": ""
             }
            },
            "type": "parcoords"
           }
          ],
          "pie": [
           {
            "automargin": true,
            "type": "pie"
           }
          ],
          "scatter": [
           {
            "fillpattern": {
             "fillmode": "overlay",
             "size": 10,
             "solidity": 0.2
            },
            "type": "scatter"
           }
          ],
          "scatter3d": [
           {
            "line": {
             "colorbar": {
              "outlinewidth": 0,
              "ticks": ""
             }
            },
            "marker": {
             "colorbar": {
              "outlinewidth": 0,
              "ticks": ""
             }
            },
            "type": "scatter3d"
           }
          ],
          "scattercarpet": [
           {
            "marker": {
             "colorbar": {
              "outlinewidth": 0,
              "ticks": ""
             }
            },
            "type": "scattercarpet"
           }
          ],
          "scattergeo": [
           {
            "marker": {
             "colorbar": {
              "outlinewidth": 0,
              "ticks": ""
             }
            },
            "type": "scattergeo"
           }
          ],
          "scattergl": [
           {
            "marker": {
             "colorbar": {
              "outlinewidth": 0,
              "ticks": ""
             }
            },
            "type": "scattergl"
           }
          ],
          "scattermap": [
           {
            "marker": {
             "colorbar": {
              "outlinewidth": 0,
              "ticks": ""
             }
            },
            "type": "scattermap"
           }
          ],
          "scattermapbox": [
           {
            "marker": {
             "colorbar": {
              "outlinewidth": 0,
              "ticks": ""
             }
            },
            "type": "scattermapbox"
           }
          ],
          "scatterpolar": [
           {
            "marker": {
             "colorbar": {
              "outlinewidth": 0,
              "ticks": ""
             }
            },
            "type": "scatterpolar"
           }
          ],
          "scatterpolargl": [
           {
            "marker": {
             "colorbar": {
              "outlinewidth": 0,
              "ticks": ""
             }
            },
            "type": "scatterpolargl"
           }
          ],
          "scatterternary": [
           {
            "marker": {
             "colorbar": {
              "outlinewidth": 0,
              "ticks": ""
             }
            },
            "type": "scatterternary"
           }
          ],
          "surface": [
           {
            "colorbar": {
             "outlinewidth": 0,
             "ticks": ""
            },
            "colorscale": [
             [
              0,
              "#0d0887"
             ],
             [
              0.1111111111111111,
              "#46039f"
             ],
             [
              0.2222222222222222,
              "#7201a8"
             ],
             [
              0.3333333333333333,
              "#9c179e"
             ],
             [
              0.4444444444444444,
              "#bd3786"
             ],
             [
              0.5555555555555556,
              "#d8576b"
             ],
             [
              0.6666666666666666,
              "#ed7953"
             ],
             [
              0.7777777777777778,
              "#fb9f3a"
             ],
             [
              0.8888888888888888,
              "#fdca26"
             ],
             [
              1,
              "#f0f921"
             ]
            ],
            "type": "surface"
           }
          ],
          "table": [
           {
            "cells": {
             "fill": {
              "color": "#EBF0F8"
             },
             "line": {
              "color": "white"
             }
            },
            "header": {
             "fill": {
              "color": "#C8D4E3"
             },
             "line": {
              "color": "white"
             }
            },
            "type": "table"
           }
          ]
         },
         "layout": {
          "annotationdefaults": {
           "arrowcolor": "#2a3f5f",
           "arrowhead": 0,
           "arrowwidth": 1
          },
          "autotypenumbers": "strict",
          "coloraxis": {
           "colorbar": {
            "outlinewidth": 0,
            "ticks": ""
           }
          },
          "colorscale": {
           "diverging": [
            [
             0,
             "#8e0152"
            ],
            [
             0.1,
             "#c51b7d"
            ],
            [
             0.2,
             "#de77ae"
            ],
            [
             0.3,
             "#f1b6da"
            ],
            [
             0.4,
             "#fde0ef"
            ],
            [
             0.5,
             "#f7f7f7"
            ],
            [
             0.6,
             "#e6f5d0"
            ],
            [
             0.7,
             "#b8e186"
            ],
            [
             0.8,
             "#7fbc41"
            ],
            [
             0.9,
             "#4d9221"
            ],
            [
             1,
             "#276419"
            ]
           ],
           "sequential": [
            [
             0,
             "#0d0887"
            ],
            [
             0.1111111111111111,
             "#46039f"
            ],
            [
             0.2222222222222222,
             "#7201a8"
            ],
            [
             0.3333333333333333,
             "#9c179e"
            ],
            [
             0.4444444444444444,
             "#bd3786"
            ],
            [
             0.5555555555555556,
             "#d8576b"
            ],
            [
             0.6666666666666666,
             "#ed7953"
            ],
            [
             0.7777777777777778,
             "#fb9f3a"
            ],
            [
             0.8888888888888888,
             "#fdca26"
            ],
            [
             1,
             "#f0f921"
            ]
           ],
           "sequentialminus": [
            [
             0,
             "#0d0887"
            ],
            [
             0.1111111111111111,
             "#46039f"
            ],
            [
             0.2222222222222222,
             "#7201a8"
            ],
            [
             0.3333333333333333,
             "#9c179e"
            ],
            [
             0.4444444444444444,
             "#bd3786"
            ],
            [
             0.5555555555555556,
             "#d8576b"
            ],
            [
             0.6666666666666666,
             "#ed7953"
            ],
            [
             0.7777777777777778,
             "#fb9f3a"
            ],
            [
             0.8888888888888888,
             "#fdca26"
            ],
            [
             1,
             "#f0f921"
            ]
           ]
          },
          "colorway": [
           "#636efa",
           "#EF553B",
           "#00cc96",
           "#ab63fa",
           "#FFA15A",
           "#19d3f3",
           "#FF6692",
           "#B6E880",
           "#FF97FF",
           "#FECB52"
          ],
          "font": {
           "color": "#2a3f5f"
          },
          "geo": {
           "bgcolor": "white",
           "lakecolor": "white",
           "landcolor": "#E5ECF6",
           "showlakes": true,
           "showland": true,
           "subunitcolor": "white"
          },
          "hoverlabel": {
           "align": "left"
          },
          "hovermode": "closest",
          "mapbox": {
           "style": "light"
          },
          "paper_bgcolor": "white",
          "plot_bgcolor": "#E5ECF6",
          "polar": {
           "angularaxis": {
            "gridcolor": "white",
            "linecolor": "white",
            "ticks": ""
           },
           "bgcolor": "#E5ECF6",
           "radialaxis": {
            "gridcolor": "white",
            "linecolor": "white",
            "ticks": ""
           }
          },
          "scene": {
           "xaxis": {
            "backgroundcolor": "#E5ECF6",
            "gridcolor": "white",
            "gridwidth": 2,
            "linecolor": "white",
            "showbackground": true,
            "ticks": "",
            "zerolinecolor": "white"
           },
           "yaxis": {
            "backgroundcolor": "#E5ECF6",
            "gridcolor": "white",
            "gridwidth": 2,
            "linecolor": "white",
            "showbackground": true,
            "ticks": "",
            "zerolinecolor": "white"
           },
           "zaxis": {
            "backgroundcolor": "#E5ECF6",
            "gridcolor": "white",
            "gridwidth": 2,
            "linecolor": "white",
            "showbackground": true,
            "ticks": "",
            "zerolinecolor": "white"
           }
          },
          "shapedefaults": {
           "line": {
            "color": "#2a3f5f"
           }
          },
          "ternary": {
           "aaxis": {
            "gridcolor": "white",
            "linecolor": "white",
            "ticks": ""
           },
           "baxis": {
            "gridcolor": "white",
            "linecolor": "white",
            "ticks": ""
           },
           "bgcolor": "#E5ECF6",
           "caxis": {
            "gridcolor": "white",
            "linecolor": "white",
            "ticks": ""
           }
          },
          "title": {
           "x": 0.05
          },
          "xaxis": {
           "automargin": true,
           "gridcolor": "white",
           "linecolor": "white",
           "ticks": "",
           "title": {
            "standoff": 15
           },
           "zerolinecolor": "white",
           "zerolinewidth": 2
          },
          "yaxis": {
           "automargin": true,
           "gridcolor": "white",
           "linecolor": "white",
           "ticks": "",
           "title": {
            "standoff": 15
           },
           "zerolinecolor": "white",
           "zerolinewidth": 2
          }
         }
        },
        "title": {
         "text": "Top Five Liquors Sold in Iowa"
        },
        "xaxis": {
         "anchor": "y",
         "domain": [
          0,
          1
         ],
         "title": {
          "text": "Item Description"
         }
        },
        "yaxis": {
         "anchor": "x",
         "domain": [
          0,
          1
         ],
         "title": {
          "text": "Profit"
         }
        }
       }
      }
     },
     "metadata": {},
     "output_type": "display_data"
    }
   ],
   "source": [
    "# Imports\n",
    "import pandas as pd\n",
    "\n",
    "# Reading the CSV in\n",
    "iowa = pd.read_csv('/Users/Caroline/Desktop/school/understanding_uncertainty/data/iowa.csv')\n",
    "\n",
    "# Creating a col to calculate my definition of profit\n",
    "iowa['Profit'] = (iowa['State Bottle Retail'] - iowa['State Bottle Cost']).mul(iowa['Bottles Sold'])\n",
    "\n",
    "#Creating a new df: grouping by item, selecting only the profit column, summing it, then sorting it with highest values at top\n",
    "iowa_2 = iowa.groupby(\"Item Description\")['Profit'].sum().sort_values(ascending=False) # No column specification bc a Series is a single column already\n",
    "\n",
    "# Creating a new df from the top 5 rows of the df above\n",
    "iowa_top = iowa_2.head()\n",
    "\n",
    "# Checking with a print statement\n",
    "print(iowa_top)\n",
    "\n",
    "# Imports\n",
    "import plotly.express as px\n",
    "\n",
    "# Making the figure in plotly\n",
    "fig = px.bar(iowa_top, y='Profit', title='Top Five Liquors Sold in Iowa')\n",
    "fig.show()"
   ]
  },
  {
   "cell_type": "markdown",
   "id": "63593bde",
   "metadata": {},
   "source": [
    "2. This question is to further explore broadcasting in NumPy.\n",
    "\n",
    "- In the first code chunk below, there are two vectors, $x$ and $y$. What happens when you try to subtract them?\n",
    "- Instead, try `x.reshape(-1,1)-y.reshape(-1,1)`. What do you get?\n",
    "- Try `x.reshape(1,-1)-y.reshape(1,-1)`. Compare the results to your previous answer.\n",
    "- Write two double for-loops to replicate the results of the previous two answers. \n",
    "- Clearly explain how `x.reshape(1,-1)` and `x.reshape(-1,1)` change $x$"
   ]
  },
  {
   "cell_type": "code",
   "execution_count": 7,
   "id": "e29b3aac",
   "metadata": {},
   "outputs": [
    {
     "ename": "ValueError",
     "evalue": "operands could not be broadcast together with shapes (3,) (2,) ",
     "output_type": "error",
     "traceback": [
      "\u001b[31m---------------------------------------------------------------------------\u001b[39m",
      "\u001b[31mValueError\u001b[39m                                Traceback (most recent call last)",
      "\u001b[36mCell\u001b[39m\u001b[36m \u001b[39m\u001b[32mIn[7]\u001b[39m\u001b[32m, line 6\u001b[39m\n\u001b[32m      3\u001b[39m x = np.array([\u001b[32m1\u001b[39m,\u001b[32m3\u001b[39m,\u001b[32m5\u001b[39m])\n\u001b[32m      4\u001b[39m y = np.array([\u001b[32m2\u001b[39m,\u001b[32m5\u001b[39m])\n\u001b[32m----> \u001b[39m\u001b[32m6\u001b[39m \u001b[43mx\u001b[49m\u001b[43m \u001b[49m\u001b[43m-\u001b[49m\u001b[43m \u001b[49m\u001b[43my\u001b[49m \u001b[38;5;66;03m# ValueError: operands could not be broadcast together with shapes (3,) (2,) \u001b[39;00m\n",
      "\u001b[31mValueError\u001b[39m: operands could not be broadcast together with shapes (3,) (2,) "
     ]
    }
   ],
   "source": [
    "import numpy as np\n",
    "\n",
    "x = np.array([1,3,5])\n",
    "y = np.array([2,5])\n",
    "\n",
    "x - y # ValueError: operands could not be broadcast together with shapes (3,) (2,) "
   ]
  },
  {
   "cell_type": "code",
   "execution_count": null,
   "id": "eb749740",
   "metadata": {},
   "outputs": [
    {
     "ename": "ValueError",
     "evalue": "operands could not be broadcast together with shapes (3,1) (2,1) ",
     "output_type": "error",
     "traceback": [
      "\u001b[31m---------------------------------------------------------------------------\u001b[39m",
      "\u001b[31mValueError\u001b[39m                                Traceback (most recent call last)",
      "\u001b[36mCell\u001b[39m\u001b[36m \u001b[39m\u001b[32mIn[14]\u001b[39m\u001b[32m, line 1\u001b[39m\n\u001b[32m----> \u001b[39m\u001b[32m1\u001b[39m \u001b[43mx\u001b[49m\u001b[43m.\u001b[49m\u001b[43mreshape\u001b[49m\u001b[43m(\u001b[49m\u001b[43m-\u001b[49m\u001b[32;43m1\u001b[39;49m\u001b[43m,\u001b[49m\u001b[32;43m1\u001b[39;49m\u001b[43m)\u001b[49m\u001b[43m \u001b[49m\u001b[43m-\u001b[49m\u001b[43m \u001b[49m\u001b[43my\u001b[49m\u001b[43m.\u001b[49m\u001b[43mreshape\u001b[49m\u001b[43m(\u001b[49m\u001b[43m-\u001b[49m\u001b[32;43m1\u001b[39;49m\u001b[43m,\u001b[49m\u001b[32;43m1\u001b[39;49m\u001b[43m)\u001b[49m \u001b[38;5;66;03m# ValueError: operands could not be broadcast together with shapes (3,1) (2,1) \u001b[39;00m\n\u001b[32m      3\u001b[39m \u001b[38;5;66;03m# We've changed x to a 3x1 vector and y to a 2x1 vector. The dimensions of x and y must be the same and these are not.\u001b[39;00m\n",
      "\u001b[31mValueError\u001b[39m: operands could not be broadcast together with shapes (3,1) (2,1) "
     ]
    }
   ],
   "source": [
    "x.reshape(-1,1) - y.reshape(-1,1) # ValueError: operands could not be broadcast together with shapes (3,1) (2,1) \n",
    "\n",
    "# We've changed x to a 3x1 vector and y to a 2x1 vector. The dimensions of x and y must be the same and these are not."
   ]
  },
  {
   "cell_type": "code",
   "execution_count": null,
   "id": "8f9136d8",
   "metadata": {},
   "outputs": [
    {
     "ename": "ValueError",
     "evalue": "operands could not be broadcast together with shapes (1,3) (1,2) ",
     "output_type": "error",
     "traceback": [
      "\u001b[31m---------------------------------------------------------------------------\u001b[39m",
      "\u001b[31mValueError\u001b[39m                                Traceback (most recent call last)",
      "\u001b[36mCell\u001b[39m\u001b[36m \u001b[39m\u001b[32mIn[15]\u001b[39m\u001b[32m, line 1\u001b[39m\n\u001b[32m----> \u001b[39m\u001b[32m1\u001b[39m \u001b[43mx\u001b[49m\u001b[43m.\u001b[49m\u001b[43mreshape\u001b[49m\u001b[43m(\u001b[49m\u001b[32;43m1\u001b[39;49m\u001b[43m,\u001b[49m\u001b[43m-\u001b[49m\u001b[32;43m1\u001b[39;49m\u001b[43m)\u001b[49m\u001b[43m \u001b[49m\u001b[43m-\u001b[49m\u001b[43m \u001b[49m\u001b[43my\u001b[49m\u001b[43m.\u001b[49m\u001b[43mreshape\u001b[49m\u001b[43m(\u001b[49m\u001b[32;43m1\u001b[39;49m\u001b[43m,\u001b[49m\u001b[43m-\u001b[49m\u001b[32;43m1\u001b[39;49m\u001b[43m)\u001b[49m \u001b[38;5;66;03m# ValueError: operands could not be broadcast together with shapes (1,3) (1,2) \u001b[39;00m\n\u001b[32m      3\u001b[39m \u001b[38;5;66;03m# We've changed x to a 1x3 vector and y to a 1x2 vector. The dimensions of x and y must be the same and these are not.\u001b[39;00m\n",
      "\u001b[31mValueError\u001b[39m: operands could not be broadcast together with shapes (1,3) (1,2) "
     ]
    }
   ],
   "source": [
    "x.reshape(1,-1) - y.reshape(1,-1) # ValueError: operands could not be broadcast together with shapes (1,3) (1,2) \n",
    "\n",
    "# We've changed x to a 1x3 vector and y to a 1x2 vector. The dimensions of x and y must be the same and these are not."
   ]
  },
  {
   "cell_type": "code",
   "execution_count": null,
   "id": "aa85e25b",
   "metadata": {},
   "outputs": [
    {
     "name": "stdout",
     "output_type": "stream",
     "text": [
      "[1 3 5]\n",
      "[2 5]\n",
      "[1 3 5]\n",
      "[2 5]\n"
     ]
    }
   ],
   "source": [
    "# Write two double for-loops to replicate the results of the previous two answers. \n",
    "\n",
    "for i in range (-1):\n",
    "    for j in range (1):\n",
    "        x.reshape(i, j)\n",
    "        y.reshape(i, j)\n",
    "\n",
    "print(x)\n",
    "print(y)\n",
    "\n",
    "\n",
    "for i in range (1):\n",
    "    for j in range (-1):\n",
    "        x.reshape(i, j)\n",
    "        y.reshape(i, j)\n",
    "\n",
    "print(x)\n",
    "print(y)\n"
   ]
  },
  {
   "cell_type": "markdown",
   "id": "b29f1d35",
   "metadata": {},
   "source": [
    "3. The indicator function $\\mathbb{I}\\{ x \\le z \\}$ takes the value 0 if $x>z$ is false and 1 if $x \\le z$ is true.\n",
    "\n",
    "- For $y = 3$, plot the indicator function for any $z$\n",
    "- Explain how $ 1- \\mathbb{I}\\{ x \\le z \\} = \\mathbb{I}\\{ x > z \\}$. Drawing a plot might help, or looking at the definition that\n",
    "$$\n",
    "\\mathbb{I}\\{x \\le z\\} = \\begin{cases}\n",
    "0, &x > z \\\\\n",
    "1, &x \\le z\n",
    "\\end{cases}\n",
    "$$\n",
    "- The code below generates a random sample for different numbers of observations, $N = 3, 30, 300, 3000 $. Write a function to compute the ECDF curve for each sample, and plot your results.\n",
    "- Describe in your own words what happens to the ECDF qualitatively as the sample size $N$ increases"
   ]
  },
  {
   "cell_type": "code",
   "execution_count": 8,
   "id": "5d01e071",
   "metadata": {},
   "outputs": [
    {
     "data": {
      "image/png": "[encoded data removed]",
      "text/plain": [
       "<Figure size 640x480 with 1 Axes>"
      ]
     },
     "metadata": {},
     "output_type": "display_data"
    }
   ],
   "source": [
    "# Defining the function\n",
    "\n",
    "# Is there a typo? It looks like it takes 0 if x > z if true. And where does y come from - is it intended that x = 3?\n",
    "\n",
    "def func(z):\n",
    "    if 3 > z:\n",
    "        return 0\n",
    "    if 3 <= z:\n",
    "        return 1\n",
    "\"\"\"   \n",
    "def func_alternative(z):\n",
    "    return 3 <= z\n",
    "\"\"\" \n",
    "# Imports \n",
    "import matplotlib.pyplot as plt\n",
    "\n",
    "# Assigning some values for z\n",
    "z = np.linspace(-6, 6, 100) # 100 points from -6 to 6\n",
    "f = list(map(func, z))\n",
    "\n",
    "# Plotting\n",
    "plt.scatter(z, f) # Can't directly apply function to an array; func expects a single value. So maps applies each value individually\n",
    "plt.show()\n",
    "\n",
    "\n"
   ]
  },
  {
   "cell_type": "markdown",
   "id": "adad1a58",
   "metadata": {},
   "source": [
    "$ 1- \\mathbb{I}\\{ x \\le z \\} = \\mathbb{I}\\{ x > z \\}$\n",
    "\n",
    "\n",
    "So putting the negative sign in gives this:\n",
    "\n",
    "$$\n",
    "- \\mathbb{I}\\{x \\le z\\} = \\begin{cases}\n",
    "0, &x > z \\\\\n",
    "-1, &x \\le z\n",
    "\\end{cases}\n",
    "$$\n",
    "\n",
    "And adding one gives this:\n",
    "\n",
    "$$\n",
    "1 - \\mathbb{I}\\{x \\le z\\} = \\begin{cases}\n",
    "0 + 1, &x > z \\\\\n",
    "-1 + 1, &x \\le z\n",
    "\\end{cases}\n",
    "$$\n",
    "\n",
    "Which is\n",
    "\n",
    "$$\n",
    "1 - \\mathbb{I}\\{x \\le z\\} = \\begin{cases}\n",
    "1, &x > z \\\\\n",
    "0, &x \\le z\n",
    "\\end{cases}\n",
    "$$\n",
    "\n",
    "AND $ \\mathbb{I}\\{ x > z \\}$ is \n",
    "\n",
    "\n",
    "$$\n",
    "\\mathbb{I}\\{x > z\\} = \\begin{cases}\n",
    "1, &x > z \\\\\n",
    "0, &x \\le z\n",
    "\\end{cases}\n",
    "$$\n",
    "\n",
    "\n",
    "so $ 1- \\mathbb{I}\\{ x \\le z \\} = \\mathbb{I}\\{ x > z \\}$"
   ]
  },
  {
   "cell_type": "code",
   "execution_count": 9,
   "id": "17ad7d01",
   "metadata": {},
   "outputs": [
    {
     "data": {
      "image/png": "[encoded data removed]",
      "text/plain": [
       "<Figure size 640x480 with 1 Axes>"
      ]
     },
     "metadata": {},
     "output_type": "display_data"
    },
    {
     "data": {
      "image/png": "[encoded data removed]",
      "text/plain": [
       "<Figure size 640x480 with 1 Axes>"
      ]
     },
     "metadata": {},
     "output_type": "display_data"
    },
    {
     "data": {
      "image/png": "[encoded data removed]",
      "text/plain": [
       "<Figure size 640x480 with 1 Axes>"
      ]
     },
     "metadata": {},
     "output_type": "display_data"
    },
    {
     "data": {
      "image/png": "[encoded data removed]",
      "text/plain": [
       "<Figure size 640x480 with 1 Axes>"
      ]
     },
     "metadata": {},
     "output_type": "display_data"
    }
   ],
   "source": [
    "import numpy as np\n",
    "import seaborn as sns\n",
    "\n",
    "rng = np.random.default_rng(100)\n",
    "\n",
    "for N in (3,30,300,3000):\n",
    "    X = rng.normal(0,1,N) # X is a normal distribution from 1 to N where N is 3, 30, 300, or 3000. This forms the grid.\n",
    "    # ECDF plot goes here:\n",
    "    ecdf = 0 * z.copy() # Create a space for values where z is my data\n",
    "\n",
    "    def indicate(z,X): \n",
    "        ''' Indicator function for computing ECDFs. '''\n",
    "        return z <= X # where X is the grid and z is the range of values we are testing\n",
    "    \n",
    "    for i in range(len(X)):\n",
    "        F_i = indicate(X[i],z) # For each i in len(X), \n",
    "        ecdf += F_i\n",
    "\n",
    "    plt.show()  \n",
    "\n",
    "    sns.lineplot(x=z, y=ecdf)\n",
    "\n",
    "    # Future challenge: normalize by sample size so pictures range from 0 to 1.\n",
    "\n",
    "\n"
   ]
  },
  {
   "cell_type": "markdown",
   "id": "07c83bea",
   "metadata": {},
   "source": [
    "- Describe in your own words what happens to the ECDF qualitatively as the sample size $N$ increases\n",
    "\n",
    "**My Answer**:\n",
    "\n",
    "As $N$ increases, the probability that the function will return 1 increases. You don't see this in my graph bc I have not normalized to the sample size."
   ]
  },
  {
   "cell_type": "markdown",
   "id": "777903f7",
   "metadata": {},
   "source": [
    "**Right Answer (Given on Prof Johnson's Github):**\n",
    "\n",
    "As the sample size, N gets large, the jagged step function gets closer and closer to a smooth curve. The line for N = 3000 looks almost continuous, while even for 30 and 300 it looks somewhat jagged. Likewise, the curves seem to be centered around the same limit: They're modeling the same underlying phenomenon, just with different levels of resolution.\n",
    "\n"
   ]
  },
  {
   "cell_type": "markdown",
   "id": "6c8f1ebb",
   "metadata": {},
   "source": [
    "4. A **quantile** generalizes the concept of the median so that instead of 50% of the mass below and 50% above, the $q$-quantile is the value for which $q$ proportion of the data are below that value and $(1-q)$ proportion of the data are above that value. This is a concept of **order**.\n",
    "\n",
    "- Write a function that computes any quantile without using Numpy's `np.quantile`\n",
    "- Write a function that computes the **Interquartile Range (IQR)** -- the .25 quantile and the .75 quantile, which brackets 50% of the data -- and the **whiskers**: $\\pm 1.5 \\times \\text{IQR}$ from the edges of the IQR\n",
    "- Write a function that computes a five-number summary and values for a boxplot: the minimum, the .25 quantile, the median, the .75 quantile, and the maximum, and the whiskers\n",
    "- Anything outside the whiskers is an **outlier**; write a function that returns a Boolean vector indicating if the observations are outliers.\n",
    "- For a numeric variable of your choice from one of the datasets, apply your functions from above, and compare your answers with `sns.boxplot` and `df.describe`. "
   ]
  },
  {
   "cell_type": "code",
   "execution_count": 11,
   "id": "1877f07f",
   "metadata": {},
   "outputs": [
    {
     "name": "stdout",
     "output_type": "stream",
     "text": [
      "The 0-quantile is -6.0\n",
      "The 25-quantile is -3.090909090909091\n",
      "The 50-quantile is -0.06060606060606055\n",
      "The 75-quantile is 2.9696969696969706\n",
      "The 100-quantile is 6.0\n",
      "\n",
      "The 0-quantile is 1\n",
      "The 25-quantile is 3\n",
      "The 50-quantile is 5\n",
      "The 75-quantile is 7\n",
      "The 100-quantile is 9\n"
     ]
    }
   ],
   "source": [
    "# Imports\n",
    "import math\n",
    "\n",
    "def quantile(q, z):\n",
    "    # Start by sorting the data\n",
    "    z = sorted(z)\n",
    "    # Multiply q proportion by the num items in z. Subtract 1 bc list is zero-indexed. This gives the index of the number at the q-quantile. Then round it down and index into that array.\n",
    "    below = z[int(math.floor(q * (len(z)-1)))]\n",
    "    # Calculate a value of q that looks nice for the string you print.\n",
    "    q_int = int(q * 100)\n",
    "    return(f\"The {q_int}-quantile is {below}\")\n",
    "    \n",
    "# Tests\n",
    "for i in np.arange(0, 1.25, 0.25): # Can't use range bc only accepts int arguments. 1.25 used (thanks auto-AI results!) bc end value is not inclusive\n",
    "    print(quantile(i, z))\n",
    "\n",
    "print()\n",
    "\n",
    "for i in np.arange(0, 1.25, 0.25): \n",
    "    print(quantile(i, [4, 1, 6, 7, 2, 3, 5, 8, 9]))\n"
   ]
  },
  {
   "cell_type": "code",
   "execution_count": 12,
   "id": "d389dc6e",
   "metadata": {},
   "outputs": [
    {
     "name": "stdout",
     "output_type": "stream",
     "text": [
      "The 50-quantile is 0.04545454545454586\n",
      "\n",
      "The 0-quantile is 0.06060606060606055\n",
      "The 25-quantile is 0.05303030303030276\n",
      "The 50-quantile is 0.04545454545454586\n",
      "The 75-quantile is 0.03787878787878807\n",
      "The 100-quantile is 0.030303030303030276\n"
     ]
    }
   ],
   "source": [
    "# Another approach\n",
    "def quantile2(q, z, func): # q is the quantile and z is the data I'm putting in and func is my function\n",
    "    # Initialize an empty list\n",
    "    vals = []\n",
    "    for i in range(0, len(z)):\n",
    "        val = abs(q - z[i])\n",
    "        vals.append(val)\n",
    "    return min(vals)\n",
    "\n",
    "# Test\n",
    "print(f\"The 50-quantile is {quantile2(0.5, z, ecdf)}\")\n",
    "\n",
    "print()\n",
    "\n",
    "# Test different quantiles\n",
    "for i in np.arange(0, 1.25, 0.25): \n",
    "    # Calculate a value of q that looks nice for the string you print.\n",
    "    q_int = int(i * 100)\n",
    "    print(f\"The {q_int}-quantile is {quantile2(i, z, ecdf)}\")\n",
    "\n",
    "# Why did this return different values? This isn't working, so please disregard."
   ]
  },
  {
   "cell_type": "markdown",
   "id": "8c7dd295",
   "metadata": {},
   "source": [
    "Write a function that computes the **Interquartile Range (IQR)** -- the .25 quantile and the .75 quantile, which brackets 50% of the data -- and the **whiskers**: $\\pm 1.5 \\times \\text{IQR}$ from the edges of the IQR\n",
    "\n"
   ]
  },
  {
   "cell_type": "code",
   "execution_count": 13,
   "id": "8c8ac3e9",
   "metadata": {},
   "outputs": [
    {
     "name": "stdout",
     "output_type": "stream",
     "text": [
      "The IQR is from -3.090909090909091 to 2.9696969696969706 (i.e., 6.060606060606061) and the whiskers are -9.090909090909092 and 9.090909090909092\n",
      "\n",
      "The IQR is from 3 to 7 (i.e., 4) and the whiskers are -6.0 and 6.0\n"
     ]
    }
   ],
   "source": [
    "def iqr(z):\n",
    "    # Start by sorting the data\n",
    "    z = sorted(z)\n",
    "    # Multiply q proportion by the num items in z. Subtract 1 bc list is zero-indexed. This gives the index of the number at the qth percentile. Then round it down and index into that array.\n",
    "    twenty_five = z[int(math.floor(0.25 * (len(z)-1)))]\n",
    "    seventy_five = z[int(math.floor(0.75 * (len(z)-1)))]\n",
    "    iqr_val = seventy_five - twenty_five\n",
    "    whiskers = (iqr_val * -1.5), (iqr_val * 1.5)\n",
    "    return(f\"The IQR is from {twenty_five} to {seventy_five} (i.e., {iqr_val}) and the whiskers are {whiskers[0]} and {whiskers[1]}\")\n",
    "\n",
    "print(iqr(z))\n",
    "print()\n",
    "# Simpler array to visualize\n",
    "print(iqr([5,1,3,4,2,7,8,9,6]))"
   ]
  },
  {
   "cell_type": "markdown",
   "id": "99f4c407",
   "metadata": {},
   "source": [
    "5. The kernel density estimator captures the concentration of the data around various points, and is defined as\n",
    "$$\n",
    "\\hat{f}_{N,h}(z) = \\frac{1}{N} \\sum_{i=1}^N \\frac{1}{h} k \\left( \\frac{x_i - z}{h}\\right)\n",
    "$$\n",
    "where $h$ is the bandwidth and $k()$ is one of the kernel functions from the class materials (Gaussian, Epanechnikov, uniform, triangular).\n",
    "\n",
    "- Write a function that takes the bandwidth $h$ as given, and computes and plots $\\hat{f}_{N,h}(z)$, for the kernels listed in the slides\n",
    "- Write a function that computes the plug-in bandwidth\n",
    "- Use your functions to analyze some numeric variables from a dataset of your choice, using a variety of bandwidths\n",
    "- Compare bandwidths that are greater or less than the plug-in value with the results for the plug-in value. When does the KDE appear to be overfitting? Underfitting?"
   ]
  },
  {
   "cell_type": "code",
   "execution_count": null,
   "id": "d43a40ae",
   "metadata": {},
   "outputs": [
    {
     "name": "stdout",
     "output_type": "stream",
     "text": [
      "Gaussian: 0.5399949769280645\n",
      "Epanechnikov: -1.2733230260315829\n",
      "Uniform: 1.485\n",
      "Triangular: -0.7533397888300574\n"
     ]
    }
   ],
   "source": [
    "import math\n",
    "\n",
    "def find_iq_range(z):\n",
    "    # Start by sorting the data\n",
    "    z = sorted(z)\n",
    "    # Multiply q proportion by the num items in z. Subtract 1 bc list is zero-indexed. This gives the index of the number at the qth percentile. Then round it down and index into that array.\n",
    "    twenty_five = z[int(math.floor(0.25 * (len(z)-1)))]\n",
    "    seventy_five = z[int(math.floor(0.75 * (len(z)-1)))]\n",
    "    iqr_val = seventy_five - twenty_five\n",
    "    return iqr_val\n",
    "\n",
    "\n",
    "iq_range = find_iq_range(z)\n",
    "\n",
    "# This is a very robust \"h\"\n",
    "u = 0.9 * min(np.std(z), iq_range/1.34) * len(z) **(-0.2)\n",
    "\n",
    "# This is another, potentially easier conceptually value for \"h\".\n",
    "# u = 1.06 * np.std(z) X len(z)**(-0.2)\n",
    "\n",
    "kernels = {'gaussian': ((math.e)**(-(u**2)/2)/(math.sqrt(2*math.pi))),\n",
    "           'epanechnikov': (3 * (1 - u**2) /4),\n",
    "           'uniform': (1/2),\n",
    "           'triangular': (1 - np.linalg.norm(u))\n",
    "           }\n",
    "\n",
    "# Compute plug-in bandwidth\n",
    "def pib(N, h, k): # sample size, bandwidth, kernel\n",
    "     # Initialize the val variable\n",
    "     val = 0\n",
    "     # Iteratively add to val through N\n",
    "     for _ in range(1, N):\n",
    "          val += k * h\n",
    "     # Divide final val by N\n",
    "     final = val/N\n",
    "     return final\n",
    "\n",
    "print(f\"Gaussian: {pib(100, 3, kernels['gaussian'])}\")\n",
    "print(f\"Epanechnikov: {pib(100, 3, kernels['epanechnikov'])}\")\n",
    "print(f\"Uniform: {pib(100, 3, kernels['uniform'])}\")\n",
    "print(f\"Triangular: {pib(100, 3, kernels['triangular'])}\")\n",
    "\n",
    "\n",
    "\n",
    "\n"
   ]
  },
  {
   "cell_type": "code",
   "execution_count": null,
   "id": "23131aab",
   "metadata": {},
   "outputs": [],
   "source": [
    "# Office Hours\n",
    "\n",
    "for "
   ]
  }
 ],
 "metadata": {
  "kernelspec": {
   "display_name": "ds6001",
   "language": "python",
   "name": "python3"
  },
  "language_info": {
   "codemirror_mode": {
    "name": "ipython",
    "version": 3
   },
   "file_extension": ".py",
   "mimetype": "text/x-python",
   "name": "python",
   "nbconvert_exporter": "python",
   "pygments_lexer": "ipython3",
   "version": "3.13.7"
  }
 },
 "nbformat": 4,
 "nbformat_minor": 5
}
